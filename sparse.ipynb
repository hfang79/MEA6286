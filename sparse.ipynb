{
 "cells": [
  {
   "cell_type": "code",
   "execution_count": 1,
   "metadata": {},
   "outputs": [],
   "source": [
    "from scipy import sparse\n",
    "import numpy\n"
   ]
  },
  {
   "cell_type": "code",
   "execution_count": 2,
   "metadata": {},
   "outputs": [],
   "source": [
    "def lhs_operator(N, sigma):\n",
    "    row = numpy.zeros(N*3-2)\n",
    "    for i in range(N):\n",
    "        row[i]=i\n",
    "    for i in range(N-1):\n",
    "        row[N+i]=i\n",
    "    for i in range(N-1):\n",
    "        row[2*N-1+i]=i+1\n",
    "    col = row.copy()\n",
    "    for i in range(N-1):\n",
    "        col[N+i]=i+1\n",
    "    for i in range(N-1):\n",
    "        col[2*N-1+i]=i\n",
    "    data= numpy.ones(N*3-2)\n",
    "    data = -data\n",
    "    for i in range(N):\n",
    "        data[i]=2+1/sigma\n",
    "    data[N-1]=1+1/sigma\n",
    "    c = sparse.coo_matrix((data,(row,col)),shape=(N,N))\n",
    "    return c"
   ]
  },
  {
   "cell_type": "code",
   "execution_count": 8,
   "metadata": {},
   "outputs": [
    {
     "data": {
      "text/plain": [
       "<10x10 sparse matrix of type '<class 'numpy.float64'>'\n",
       "\twith 28 stored elements in COOrdinate format>"
      ]
     },
     "execution_count": 8,
     "metadata": {},
     "output_type": "execute_result"
    }
   ],
   "source": [
    "c=lhs_operator(10,0.5)\n",
    "c"
   ]
  },
  {
   "cell_type": "code",
   "execution_count": 6,
   "metadata": {},
   "outputs": [
    {
     "name": "stdout",
     "output_type": "stream",
     "text": [
      "[[ 4. -1.  0.  0.  0.  0.  0.  0.  0.  0.]\n",
      " [-1.  4. -1.  0.  0.  0.  0.  0.  0.  0.]\n",
      " [ 0. -1.  4. -1.  0.  0.  0.  0.  0.  0.]\n",
      " [ 0.  0. -1.  4. -1.  0.  0.  0.  0.  0.]\n",
      " [ 0.  0.  0. -1.  4. -1.  0.  0.  0.  0.]\n",
      " [ 0.  0.  0.  0. -1.  4. -1.  0.  0.  0.]\n",
      " [ 0.  0.  0.  0.  0. -1.  4. -1.  0.  0.]\n",
      " [ 0.  0.  0.  0.  0.  0. -1.  4. -1.  0.]\n",
      " [ 0.  0.  0.  0.  0.  0.  0. -1.  4. -1.]\n",
      " [ 0.  0.  0.  0.  0.  0.  0.  0. -1.  3.]]\n"
     ]
    }
   ],
   "source": [
    "print (c.toarray())"
   ]
  },
  {
   "cell_type": "code",
   "execution_count": 7,
   "metadata": {},
   "outputs": [
    {
     "data": {
      "text/plain": [
       "<10x10 sparse matrix of type '<class 'numpy.float64'>'\n",
       "\twith 28 stored elements in COOrdinate format>"
      ]
     },
     "execution_count": 7,
     "metadata": {},
     "output_type": "execute_result"
    }
   ],
   "source": []
  },
  {
   "cell_type": "code",
   "execution_count": null,
   "metadata": {},
   "outputs": [],
   "source": []
  }
 ],
 "metadata": {
  "kernelspec": {
   "display_name": "Python 3",
   "language": "python",
   "name": "python3"
  },
  "language_info": {
   "codemirror_mode": {
    "name": "ipython",
    "version": 3
   },
   "file_extension": ".py",
   "mimetype": "text/x-python",
   "name": "python",
   "nbconvert_exporter": "python",
   "pygments_lexer": "ipython3",
   "version": "3.7.3"
  }
 },
 "nbformat": 4,
 "nbformat_minor": 2
}
