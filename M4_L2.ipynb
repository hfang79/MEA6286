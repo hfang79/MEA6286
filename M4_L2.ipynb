{
 "cells": [
  {
   "cell_type": "code",
   "execution_count": 1,
   "metadata": {},
   "outputs": [],
   "source": [
    "import numpy\n",
    "from matplotlib import pyplot\n",
    "%matplotlib inline"
   ]
  },
  {
   "cell_type": "code",
   "execution_count": 2,
   "metadata": {},
   "outputs": [],
   "source": [
    "Lx = 0.01  \n",
    "Ly = 0.01  \n",
    "nx = 21  \n",
    "ny = 21  \n",
    "dx = Lx / (nx - 1)  \n",
    "dy = Ly / (ny - 1)  \n",
    "\n",
    "x = numpy.linspace(0.0,Lx,num=nx)\n",
    "y = numpy.linspace(0.0,Ly,num=ny)\n",
    "alpha = 1e-4\n",
    "\n",
    "#initial conditions\n",
    "T0 = numpy.full((nx,ny),20.0)\n",
    "T0[0, :] = 100.0\n",
    "T0[:, 0] = 100.0"
   ]
  },
  {
   "cell_type": "code",
   "execution_count": 3,
   "metadata": {},
   "outputs": [],
   "source": [
    "def FTCS(T0, nt, dt, dx, dy, alpha, qx=0.0, qy=0.0):\n",
    "    T = T0.copy()\n",
    "    sigma_x = alpha * dt / dx**2\n",
    "    sigma_y = alpha * dt / dy**2\n",
    "    ny ,nx =T.shape\n",
    "    I , J =nx // 2, ny // 2\n",
    "    for n in range(nt):\n",
    "        T[1:-1, 1:-1] = (T[1:-1, 1:-1] +\n",
    "                         sigma_x * (T[1:-1, 2:] - 2.0 * T[1:-1, 1:-1] + T[1:-1, :-2]) +\n",
    "                         sigma_y * (T[2:, 1:-1] - 2.0 * T[1:-1, 1:-1] + T[:-2, 1:-1]))\n",
    "        #B.C.\n",
    "        T[-1, :] = T[-2, :]\n",
    "        T[:, -1] = T[:, -2]\n",
    "        if T[J,I] >= 70:\n",
    "            break\n",
    "    print(n+1,T[J , I])\n",
    "    return T"
   ]
  },
  {
   "cell_type": "code",
   "execution_count": 4,
   "metadata": {},
   "outputs": [
    {
     "name": "stdout",
     "output_type": "stream",
     "text": [
      "256 70.02138294076661\n"
     ]
    }
   ],
   "source": [
    "nt = 500\n",
    "sigma = 0.25\n",
    "dt = sigma * min(dx,dy)**2 / alpha\n",
    "\n",
    "T = FTCS(T0, nt, dt, dx, dy,alpha)"
   ]
  },
  {
   "cell_type": "code",
   "execution_count": 11,
   "metadata": {},
   "outputs": [
    {
     "data": {
      "image/png": "[encoded data removed]",
      "text/plain": [
       "<Figure size 576x360 with 2 Axes>"
      ]
     },
     "metadata": {
      "needs_background": "light"
     },
     "output_type": "display_data"
    }
   ],
   "source": [
    "pyplot.figure(figsize=(8.0,5.0))\n",
    "pyplot.xlabel('x [m]')\n",
    "pyplot.ylabel('y [m]')\n",
    "contf = pyplot.contourf(x*100, y*100, T)\n",
    "cbar = pyplot.colorbar(contf)\n",
    "cbar.set_label('Temperature [C]')\n",
    "pyplot.axis('scaled', adjustable='box');"
   ]
  },
  {
   "cell_type": "code",
   "execution_count": 17,
   "metadata": {
    "scrolled": true
   },
   "outputs": [],
   "source": [
    "def btcs(T0,nt,dt,alpha,delta):\n",
    "    sigma = alpha *dt /delta**2\n",
    "    A = lhs_operator()\n",
    "    T = map_2d_to_1d(T0)\n",
    "    for n in range(nt):\n",
    "        b = rhs.vector()\n",
    "        T = numpy.linalg.slove(A,b)\n",
    "    return map_1d_to_2d(T)    "
   ]
  },
  {
   "cell_type": "code",
   "execution_count": 18,
   "metadata": {},
   "outputs": [],
   "source": [
    "def lhs_operator(M,N):\n",
    "    A = numpy.zeros((M*N,M*N))\n",
    "    for j in range(N):\n",
    "        for i in range(M):\n",
    "            I = j * M +i\n",
    "            west = I-1\n",
    "            east = I+1\n",
    "            south = I - M\n",
    "            north = I + M\n",
    "            if i == 0 and j == 0:  # bottom-left corner\n",
    "                A[I, I] = 1.0 / sigma + 4.0\n",
    "                A[I, east] = -1.0\n",
    "                A[I, north] = -1.0\n",
    "            elif i == M - 1 and j == 0:  # bottom-right corner\n",
    "                A[I, I] = 1.0 / sigma + 3.0\n",
    "                A[I, west] = -1.0\n",
    "                A[I, north] = -1.0\n",
    "            elif i == 0 and j == N - 1:  # top-left corner\n",
    "                A[I, I] = 1.0 / sigma + 3.0\n",
    "                A[I, south] = -1.0\n",
    "                A[I, east] = -1.0\n",
    "            elif i == M - 1 and j == N - 1:  # top-right corner\n",
    "                A[I, I] = 1.0 / sigma + 2.0\n",
    "                A[I, south] = -1.0\n",
    "                A[I, west] = -1.0\n",
    "            # Setup coefficients at side points (excluding corners).\n",
    "            elif i == 0:  # left side\n",
    "                A[I, I] = 1.0 / sigma + 4.0\n",
    "                A[I, south] = -1.0\n",
    "                A[I, east] = -1.0\n",
    "                A[I, north] = -1.0\n",
    "            elif i == M - 1:  # right side\n",
    "                A[I, I] = 1.0 / sigma + 3.0\n",
    "                A[I, south] = -1.0\n",
    "                A[I, west] = -1.0\n",
    "                A[I, north] = -1.0\n",
    "            elif j == 0:  # bottom side\n",
    "                A[I, I] = 1.0 / sigma + 4.0\n",
    "                A[I, west] = -1.0\n",
    "                A[I, east] = -1.0\n",
    "                A[I, north] = -1.0\n",
    "            elif j == N - 1:  # top side\n",
    "                A[I, I] = 1.0 / sigma + 3.0\n",
    "                A[I, south] = -1.0\n",
    "                A[I, west] = -1.0\n",
    "                A[I, east] = -1.0\n",
    "            # Setup coefficients at interior points.\n",
    "            else:\n",
    "                A[I, I] = 1.0 / sigma + 4.0\n",
    "                A[I, south] = -1.0\n",
    "                A[I, west] = -1.0\n",
    "                A[I, east] = -1.0\n",
    "                A[I, north] = -1.0\n",
    "    return A"
   ]
  },
  {
   "cell_type": "code",
   "execution_count": null,
   "metadata": {},
   "outputs": [],
   "source": []
  }
 ],
 "metadata": {
  "kernelspec": {
   "display_name": "Python 3",
   "language": "python",
   "name": "python3"
  },
  "language_info": {
   "codemirror_mode": {
    "name": "ipython",
    "version": 3
   },
   "file_extension": ".py",
   "mimetype": "text/x-python",
   "name": "python",
   "nbconvert_exporter": "python",
   "pygments_lexer": "ipython3",
   "version": "3.7.3"
  }
 },
 "nbformat": 4,
 "nbformat_minor": 2
}
