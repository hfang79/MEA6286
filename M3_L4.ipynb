{
 "cells": [
  {
   "cell_type": "code",
   "execution_count": 27,
   "metadata": {},
   "outputs": [],
   "source": [
    "import numpy\n",
    "sigma = 0.5\n",
    "nx = 51\n",
    "L = 1.0\n",
    "dx = L /(nx-1)\n",
    "alpha = 0.00122\n",
    "dt = sigma * dx**2 / alpha\n",
    " "
   ]
  },
  {
   "cell_type": "code",
   "execution_count": 28,
   "metadata": {},
   "outputs": [],
   "source": [
    "def FTCS(u0,nt,dt,nx,alpha):\n",
    "    u = u0.copy()\n",
    "    for i in range(nt):\n",
    "        u[1:-1] = u[1:-1] + alpha * dt / (dx**2) * (u[:-2]-2*u[1:-1]+u[2:])\n",
    "    return u"
   ]
  },
  {
   "cell_type": "code",
   "execution_count": 29,
   "metadata": {},
   "outputs": [
    {
     "data": {
      "text/plain": [
       "0.02"
      ]
     },
     "execution_count": 29,
     "metadata": {},
     "output_type": "execute_result"
    }
   ],
   "source": [
    "x = numpy.linspace(0.0,1.0,num=nx)\n",
    "u0 = numpy.zeros(nx)\n",
    "u0[0] = 100.0\n",
    "dx"
   ]
  },
  {
   "cell_type": "code",
   "execution_count": 30,
   "metadata": {},
   "outputs": [],
   "source": [
    "nt = 100\n",
    "u = FTCS(u0,nt,dt,nx,alpha)"
   ]
  },
  {
   "cell_type": "code",
   "execution_count": 31,
   "metadata": {},
   "outputs": [
    {
     "data": {
      "text/plain": [
       "<function matplotlib.pyplot.show(*args, **kw)>"
      ]
     },
     "execution_count": 31,
     "metadata": {},
     "output_type": "execute_result"
    },
    {
     "data": {
      "image/png": "[encoded data removed]",
      "text/plain": [
       "<Figure size 432x288 with 1 Axes>"
      ]
     },
     "metadata": {
      "needs_background": "light"
     },
     "output_type": "display_data"
    }
   ],
   "source": [
    "from matplotlib import pyplot\n",
    "pyplot.xlabel('x')\n",
    "pyplot.ylabel('T')\n",
    "pyplot.plot(x,u)\n",
    "pyplot.grid()\n",
    "pyplot.show"
   ]
  },
  {
   "cell_type": "code",
   "execution_count": 32,
   "metadata": {},
   "outputs": [],
   "source": [
    "def new_FTCS(u0,nt,dt,nx,alpha):\n",
    "    u = u0.copy()\n",
    "    for i in range(nt):\n",
    "        u[1:-1] = u[1:-1] + alpha * dt / (dx**2) * (u[:-2]-2*u[1:-1]+u[2:])\n",
    "    u[-1] = u[-2]+ dx * q\n",
    "    return u"
   ]
  },
  {
   "cell_type": "code",
   "execution_count": 33,
   "metadata": {},
   "outputs": [
    {
     "data": {
      "text/plain": [
       "<function matplotlib.pyplot.show(*args, **kw)>"
      ]
     },
     "execution_count": 33,
     "metadata": {},
     "output_type": "execute_result"
    },
    {
     "data": {
      "image/png": "[encoded data removed]",
      "text/plain": [
       "<Figure size 432x288 with 1 Axes>"
      ]
     },
     "metadata": {
      "needs_background": "light"
     },
     "output_type": "display_data"
    }
   ],
   "source": [
    "nt = 100\n",
    "q = 0\n",
    "u = new_FTCS(u0,nt,dt,nx,alpha)\n",
    "from matplotlib import pyplot\n",
    "pyplot.xlabel('x')\n",
    "pyplot.ylabel('T')\n",
    "pyplot.plot(x,u)\n",
    "pyplot.grid()\n",
    "pyplot.show"
   ]
  },
  {
   "cell_type": "code",
   "execution_count": 35,
   "metadata": {},
   "outputs": [],
   "source": [
    "from scipy import linalg\n",
    "def btcs(u0,nt,dt,dx,alpha,q=0.0):\n",
    "    u = u0.copy\n",
    "    sigma = alpha *dt/dx**2\n",
    "    A = lhs_operator(sigma)\n",
    "    for i in range(nt):\n",
    "        b = rhs_vector(u, sigma,q*dx)\n",
    "        u[1:-1]= numpy.linalg.solve(A,b)\n",
    "        u[0]=u0[0]\n",
    "        u[-1] = u[-2]+q*dx\n",
    "    return u"
   ]
  },
  {
   "cell_type": "code",
   "execution_count": 36,
   "metadata": {},
   "outputs": [],
   "source": [
    "def lhs_operator(N,sigma):\n",
    "    D = numpy.diag((2.0 + 1.0 / sigma) * numpy.ones(N))\n",
    "    # Setup the Neumann condition for the last element.\n",
    "    D[-1, -1] = 1.0 + 1.0 / sigma\n",
    "    # Setup the upper diagonal of the operator.\n",
    "    U = numpy.diag(-1.0 * numpy.ones(N - 1), k=1)\n",
    "    # Setup the lower diagonal of the operator.\n",
    "    L = numpy.diag(-1.0 * numpy.ones(N - 1), k=-1)\n",
    "    # Assemble the operator.\n",
    "    A = D + U + L\n",
    "    return A"
   ]
  },
  {
   "cell_type": "code",
   "execution_count": 38,
   "metadata": {},
   "outputs": [
    {
     "ename": "SyntaxError",
     "evalue": "invalid character in identifier (<ipython-input-38-5a5b15ba2779>, line 8)",
     "output_type": "error",
     "traceback": [
      "\u001b[0;36m  File \u001b[0;32m\"<ipython-input-38-5a5b15ba2779>\"\u001b[0;36m, line \u001b[0;32m8\u001b[0m\n\u001b[0;31m    btcs(u0,nt,dt,dx,alpha,q=0.0，sigma)\u001b[0m\n\u001b[0m                                     ^\u001b[0m\n\u001b[0;31mSyntaxError\u001b[0m\u001b[0;31m:\u001b[0m invalid character in identifier\n"
     ]
    }
   ],
   "source": [
    "def rhs_vector(T, sigma, qdx):\n",
    "    b = T[1:-1] / sigma\n",
    "    # Set Dirichlet condition.\n",
    "    b[0] += T[0]\n",
    "    # Set Neumann condition.\n",
    "    b[-1] += qdx\n",
    "    return b\n",
    "btcs(u0,nt,dt,dx,alpha,q=0.0)"
   ]
  },
  {
   "cell_type": "code",
   "execution_count": null,
   "metadata": {},
   "outputs": [],
   "source": []
  }
 ],
 "metadata": {
  "kernelspec": {
   "display_name": "Python 3",
   "language": "python",
   "name": "python3"
  },
  "language_info": {
   "codemirror_mode": {
    "name": "ipython",
    "version": 3
   },
   "file_extension": ".py",
   "mimetype": "text/x-python",
   "name": "python",
   "nbconvert_exporter": "python",
   "pygments_lexer": "ipython3",
   "version": "3.7.3"
  }
 },
 "nbformat": 4,
 "nbformat_minor": 2
}
