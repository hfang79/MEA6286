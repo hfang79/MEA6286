{
 "cells": [
  {
   "cell_type": "code",
   "execution_count": 1,
   "metadata": {},
   "outputs": [],
   "source": [
    "import numpy\n",
    "from matplotlib import pyplot\n",
    "\n",
    "%matplotlib inline"
   ]
  },
  {
   "cell_type": "code",
   "execution_count": 2,
   "metadata": {},
   "outputs": [],
   "source": [
    "# set parameter\n",
    "nx = 41\n",
    "L = 2.0\n",
    "dx = L/(nx-1)\n",
    "\n",
    "nu = 0.3\n",
    "\n",
    "sigma = 0.6\n",
    "dt=sigma*dx**2 / nu\n",
    "nt=20"
   ]
  },
  {
   "cell_type": "code",
   "execution_count": 3,
   "metadata": {},
   "outputs": [],
   "source": [
    "x= numpy.linspace(0.0 , L ,num=nx)"
   ]
  },
  {
   "cell_type": "code",
   "execution_count": 4,
   "metadata": {},
   "outputs": [],
   "source": [
    "u0 = numpy.ones(nx)\n",
    "mask = numpy.where((x>=0.5)&(x<=1))\n",
    "u0[mask]=2"
   ]
  },
  {
   "cell_type": "code",
   "execution_count": 5,
   "metadata": {},
   "outputs": [],
   "source": [
    "u=u0.copy()\n",
    "for n in range(nt):\n",
    "    un = u.copy()\n",
    "    for i in range(1,nx-1):\n",
    "        u[i]=un[i]+sigma*(un[i-1]-2*un[i]+un[i+1])\n",
    "    u[0]=1\n",
    "    u[-1]=1\n",
    "\n",
    "u_naive =u"
   ]
  },
  {
   "cell_type": "code",
   "execution_count": 6,
   "metadata": {},
   "outputs": [],
   "source": [
    "u=u0.copy()\n",
    "for n in range(nt):\n",
    "    un = u.copy()\n",
    "    u[1:-1]=un[1:-1]+sigma*(un[:-2]-2*un[1:-1]+un[2:])"
   ]
  },
  {
   "cell_type": "code",
   "execution_count": 7,
   "metadata": {},
   "outputs": [
    {
     "data": {
      "text/plain": [
       "True"
      ]
     },
     "execution_count": 7,
     "metadata": {},
     "output_type": "execute_result"
    }
   ],
   "source": [
    "numpy.allclose(u_naive,u)"
   ]
  },
  {
   "cell_type": "code",
   "execution_count": 8,
   "metadata": {},
   "outputs": [],
   "source": [
    "def diffusion(u0,sigma=0.5,nt=20):\n",
    "    u_hist=[u0.copy()]\n",
    "    u=u0.copy()\n",
    "    for n in range(nt):\n",
    "        un = u.copy()\n",
    "        u[1:-1]=un[1:-1]+sigma*(un[:-2]-2*un[1:-1]+un[2:])\n",
    "        u_hist.append(u.copy())\n",
    "    return u_hist"
   ]
  },
  {
   "cell_type": "code",
   "execution_count": 9,
   "metadata": {},
   "outputs": [],
   "source": [
    "u_hist=diffusion(u0,sigma=sigma, nt=nt)"
   ]
  },
  {
   "cell_type": "code",
   "execution_count": 10,
   "metadata": {},
   "outputs": [],
   "source": [
    "def plot_solution(n,u_hist,x):\n",
    "    pyplot.figure()\n",
    "    pyplot.xlabel('x')\n",
    "    pyplot.ylabel('y')\n",
    "    pyplot.grid()\n",
    "    pyplot.plot(x,u_hist[0],label='initial')\n",
    "    pyplot.plot(x,u_hist[n],label='current')\n",
    "    pyplot.legend()\n",
    "    pyplot.xlim(0.0,2.0)\n",
    "    pyplot.ylim(0.5,2.5)\n",
    "    pyplot.show()"
   ]
  },
  {
   "cell_type": "code",
   "execution_count": 11,
   "metadata": {},
   "outputs": [
    {
     "data": {
      "image/png": "[encoded data removed]",
      "text/plain": [
       "<Figure size 432x288 with 1 Axes>"
      ]
     },
     "metadata": {
      "needs_background": "light"
     },
     "output_type": "display_data"
    }
   ],
   "source": [
    "plot_solution(-1,u_hist, x)"
   ]
  },
  {
   "cell_type": "code",
   "execution_count": 12,
   "metadata": {},
   "outputs": [],
   "source": [
    "import ipywidgets"
   ]
  },
  {
   "cell_type": "code",
   "execution_count": 13,
   "metadata": {},
   "outputs": [],
   "source": [
    "nt_slider =ipywidgets.IntSlider(value=0, min=0,max=nt,step=1,\n",
    "                              description='Time steo')\n",
    "w= ipywidgets.interactive(plot_solution, n=nt_slider , u_hist=ipywidgets.fixed(u_hist), x=ipywidgets.fixed(x))"
   ]
  },
  {
   "cell_type": "code",
   "execution_count": 14,
   "metadata": {},
   "outputs": [
    {
     "data": {
      "application/vnd.jupyter.widget-view+json": {
       "model_id": "81f8a7421a964c53b2cefd60ad61736c",
       "version_major": 2,
       "version_minor": 0
      },
      "text/plain": [
       "interactive(children=(IntSlider(value=0, description='Time steo', max=20), Output()), _dom_classes=('widget-in…"
      ]
     },
     "metadata": {},
     "output_type": "display_data"
    }
   ],
   "source": [
    "display(w)"
   ]
  },
  {
   "cell_type": "code",
   "execution_count": 15,
   "metadata": {},
   "outputs": [],
   "source": [
    "def diffusion(u0,sigma=0.6,nt=20):\n",
    "    u_hist=[u0.copy()]\n",
    "    u=u0.copy()\n",
    "    for n in range(nt):\n",
    "        un = u.copy()\n",
    "        u[1:-1]=un[1:-1]+sigma*(un[:-2]-2*un[1:-1]+un[2:])\n",
    "        u_hist.append(u.copy())\n",
    "    return u_hist\n",
    "u_hist=diffusion(u0,sigma=sigma, nt=nt)\n",
    "nx = 41\n",
    "L = 2.0\n",
    "dx = L/(nx-1)\n",
    "\n",
    "nu = 0.3\n",
    "\n",
    "sigma = 0.6\n",
    "dt=sigma*dx**2 / nu\n",
    "nt=20"
   ]
  },
  {
   "cell_type": "code",
   "execution_count": 16,
   "metadata": {},
   "outputs": [],
   "source": [
    "nt_slider =ipywidgets.IntSlider(value=0, min=0,max=nt,step=1,\n",
    "                              description='Time steo')\n",
    "w= ipywidgets.interactive(plot_solution, n=nt_slider , u_hist=ipywidgets.fixed(u_hist), x=ipywidgets.fixed(x))"
   ]
  },
  {
   "cell_type": "code",
   "execution_count": 17,
   "metadata": {},
   "outputs": [
    {
     "data": {
      "application/vnd.jupyter.widget-view+json": {
       "model_id": "9af13b3c6a7e408782654f5c61358859",
       "version_major": 2,
       "version_minor": 0
      },
      "text/plain": [
       "interactive(children=(IntSlider(value=0, description='Time steo', max=20), Output()), _dom_classes=('widget-in…"
      ]
     },
     "metadata": {},
     "output_type": "display_data"
    }
   ],
   "source": [
    "display(w)"
   ]
  },
  {
   "cell_type": "code",
   "execution_count": null,
   "metadata": {},
   "outputs": [],
   "source": []
  }
 ],
 "metadata": {
  "kernelspec": {
   "display_name": "Python 3",
   "language": "python",
   "name": "python3"
  },
  "language_info": {
   "codemirror_mode": {
    "name": "ipython",
    "version": 3
   },
   "file_extension": ".py",
   "mimetype": "text/x-python",
   "name": "python",
   "nbconvert_exporter": "python",
   "pygments_lexer": "ipython3",
   "version": "3.7.3"
  }
 },
 "nbformat": 4,
 "nbformat_minor": 2
}
